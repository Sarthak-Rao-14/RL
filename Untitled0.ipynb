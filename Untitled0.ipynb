{
  "cells": [
    {
      "cell_type": "markdown",
      "metadata": {
        "id": "view-in-github",
        "colab_type": "text"
      },
      "source": [
        "<a href=\"https://colab.research.google.com/github/Sarthak-Rao-14/RL/blob/main/Untitled0.ipynb\" target=\"_parent\"><img src=\"https://colab.research.google.com/assets/colab-badge.svg\" alt=\"Open In Colab\"/></a>"
      ]
    },
    {
      "cell_type": "code",
      "execution_count": null,
      "metadata": {
        "colab": {
          "base_uri": "https://localhost:8080/"
        },
        "id": "2LOzUS0OeryO",
        "outputId": "98f9a073-a6e7-4ec3-af8e-a0ce2dbf3ce4"
      },
      "outputs": [
        {
          "name": "stdout",
          "output_type": "stream",
          "text": [
            "hello world\n"
          ]
        }
      ],
      "source": [
        "print(\"hello world\")"
      ]
    },
    {
      "cell_type": "code",
      "execution_count": null,
      "metadata": {
        "colab": {
          "base_uri": "https://localhost:8080/"
        },
        "id": "sc_NGwFtfCgL",
        "outputId": "51aa02e8-aca0-4753-c477-dece403b0942"
      },
      "outputs": [
        {
          "name": "stdout",
          "output_type": "stream",
          "text": [
            "10\n",
            "<class 'int'>\n"
          ]
        }
      ],
      "source": [
        "x=6\n",
        "print(x+4)\n",
        "print(type(x))"
      ]
    },
    {
      "cell_type": "code",
      "execution_count": null,
      "metadata": {
        "colab": {
          "base_uri": "https://localhost:8080/"
        },
        "id": "B9r-jSk3fao7",
        "outputId": "e7575bf1-9f4a-4155-e591-e8125fdd5e23"
      },
      "outputs": [
        {
          "name": "stdout",
          "output_type": "stream",
          "text": [
            "<class 'bool'>\n",
            "False\n",
            "True\n",
            "False\n",
            "True\n"
          ]
        }
      ],
      "source": [
        "t = True\n",
        "f = False\n",
        "print(type(t))\n",
        "print(t and f)\n",
        "print(t or f)\n",
        "print(not t)\n",
        "print(not f)"
      ]
    },
    {
      "cell_type": "code",
      "execution_count": null,
      "metadata": {
        "colab": {
          "base_uri": "https://localhost:8080/"
        },
        "id": "hnz26_usg6eO",
        "outputId": "64a52fcd-2abf-4904-d3a1-fd4aaaa3e1c7"
      },
      "outputs": [
        {
          "name": "stdout",
          "output_type": "stream",
          "text": [
            "hello\n",
            "5\n",
            "helloworld\n",
            "hello world 12\n"
          ]
        }
      ],
      "source": [
        "hello= \"hello\"\n",
        "world= 'world'\n",
        "print(hello)\n",
        "print(len(world))\n",
        "hw = hello + world\n",
        "print(hw)\n",
        "hw12 = \"{} {} {}\".format(hello, world, 12)\n",
        "print(hw12)"
      ]
    },
    {
      "cell_type": "code",
      "execution_count": null,
      "metadata": {
        "colab": {
          "base_uri": "https://localhost:8080/"
        },
        "id": "UFCZMj7Sgb6A",
        "outputId": "f5c7d01d-097a-41c7-e732-ea36e71b1b82"
      },
      "outputs": [
        {
          "name": "stdout",
          "output_type": "stream",
          "text": [
            "Hey there\n",
            "HEY THERE\n",
            "     hey there\n",
            "  hey there   \n",
            "hi there\n"
          ]
        }
      ],
      "source": [
        "s=('hey there')\n",
        "print(s.capitalize())\n",
        "print(s.upper())\n",
        "print(s.rjust(14))\n",
        "print(s.center(14))\n",
        "print(s.replace('ey','i'))"
      ]
    },
    {
      "cell_type": "code",
      "execution_count": null,
      "metadata": {
        "colab": {
          "base_uri": "https://localhost:8080/"
        },
        "id": "Z6tmiPL7h59z",
        "outputId": "54bcd9ba-076b-4616-a05a-1f38e0e8189d"
      },
      "outputs": [
        {
          "name": "stdout",
          "output_type": "stream",
          "text": [
            "[3, 1, 2]\n",
            "<class 'list'>\n",
            "2 [3, 1]\n"
          ]
        }
      ],
      "source": [
        "xs= [3,1,2]\n",
        "print(xs)\n",
        "print(type(xs))\n",
        "x = xs.pop()\n",
        "print(x,xs)"
      ]
    },
    {
      "cell_type": "code",
      "execution_count": null,
      "metadata": {
        "colab": {
          "base_uri": "https://localhost:8080/"
        },
        "id": "abmqwc-vlieu",
        "outputId": "de01be51-7a64-4953-8dda-a76d4f3f8be5"
      },
      "outputs": [
        {
          "name": "stdout",
          "output_type": "stream",
          "text": [
            "[0, 1, 2, 3, 4]\n",
            "[2, 3]\n",
            "[2, 3, 4]\n",
            "[0, 1]\n",
            "[0, 1, 2, 3, 4]\n",
            "[0, 1, 2, 3]\n",
            "[0, 1, 8, 9, 4]\n"
          ]
        }
      ],
      "source": [
        "nums=list(range(5))\n",
        "print(nums)\n",
        "print(nums[2:4])\n",
        "print(nums[2:])\n",
        "print(nums[:2])\n",
        "print(nums[:])\n",
        "print(nums[:-1])\n",
        "nums[2:4]=[8,9]\n",
        "print(nums)"
      ]
    },
    {
      "cell_type": "code",
      "execution_count": null,
      "metadata": {
        "colab": {
          "base_uri": "https://localhost:8080/"
        },
        "id": "W_x9uaoTmpNa",
        "outputId": "7a1f6734-7f2b-4014-8024-469e74e59be0"
      },
      "outputs": [
        {
          "name": "stdout",
          "output_type": "stream",
          "text": [
            "dog\n",
            "cat\n",
            "bat\n"
          ]
        }
      ],
      "source": [
        "animals = ['dog','cat','bat']\n",
        "for animal in animals:\n",
        "  print (animal)"
      ]
    },
    {
      "cell_type": "code",
      "execution_count": null,
      "metadata": {
        "colab": {
          "background_save": true
        },
        "id": "_34qC4rFsjfq"
      },
      "outputs": [],
      "source": [
        "nums=[1,2,3]"
      ]
    }
  ],
  "metadata": {
    "colab": {
      "provenance": [],
      "authorship_tag": "ABX9TyPo8C3WHOtSO33YcgFroJMv",
      "include_colab_link": true
    },
    "kernelspec": {
      "display_name": "Python 3",
      "name": "python3"
    },
    "language_info": {
      "name": "python"
    }
  },
  "nbformat": 4,
  "nbformat_minor": 0
}